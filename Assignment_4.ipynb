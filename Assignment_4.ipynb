{
 "cells": [
  {
   "cell_type": "markdown",
   "id": "d37ea5a4",
   "metadata": {},
   "source": [
    "1. What exactly is []?"
   ]
  },
  {
   "cell_type": "markdown",
   "id": "b04fb74e",
   "metadata": {},
   "source": [
    "Ans-1) This is a empty list"
   ]
  },
  {
   "cell_type": "markdown",
   "id": "7904c17a",
   "metadata": {},
   "source": [
    "2. In a list of values stored in a variable called spam, how would you assign the value 'hello' as the third value? (Assume [2, 4, 6, 8, 10] are in spam.)"
   ]
  },
  {
   "cell_type": "code",
   "execution_count": 3,
   "id": "c8439dcf",
   "metadata": {},
   "outputs": [
    {
     "name": "stdout",
     "output_type": "stream",
     "text": [
      "[2, 4, 'hello', 8, 10]\n"
     ]
    }
   ],
   "source": [
    "# Ans-2)\n",
    "spam=[2, 4, 6, 8, 10]\n",
    "spam[2]=\"hello\"\n",
    "print(spam)"
   ]
  },
  {
   "cell_type": "markdown",
   "id": "c7e57358",
   "metadata": {},
   "source": [
    "Let's pretend the spam includes the list ['a', 'b', 'c', 'd'] for the next three queries."
   ]
  },
  {
   "cell_type": "markdown",
   "id": "cebe4bcc",
   "metadata": {},
   "source": [
    "3. What is the value of spam[int(int('3' * 2) / 11)]?"
   ]
  },
  {
   "cell_type": "code",
   "execution_count": 7,
   "id": "1c7b415c",
   "metadata": {},
   "outputs": [
    {
     "name": "stdout",
     "output_type": "stream",
     "text": [
      "['a', 'b', 'c', 'd']\n"
     ]
    }
   ],
   "source": [
    "# ans-3\n",
    "spam=['a','b','c','d']\n",
    "spam[int(int('3' * 2) / 11)]\n",
    "print(spam)"
   ]
  },
  {
   "cell_type": "markdown",
   "id": "13a3b571",
   "metadata": {},
   "source": [
    "4. What is the value of spam[-1]?"
   ]
  },
  {
   "cell_type": "code",
   "execution_count": 8,
   "id": "d7aeae84",
   "metadata": {},
   "outputs": [
    {
     "data": {
      "text/plain": [
       "'d'"
      ]
     },
     "execution_count": 8,
     "metadata": {},
     "output_type": "execute_result"
    }
   ],
   "source": [
    "spam[-1]"
   ]
  },
  {
   "cell_type": "markdown",
   "id": "fed8c724",
   "metadata": {},
   "source": [
    "5. What is the value of spam[:2]?"
   ]
  },
  {
   "cell_type": "code",
   "execution_count": 9,
   "id": "38b3bbc8",
   "metadata": {},
   "outputs": [
    {
     "data": {
      "text/plain": [
       "['a', 'b']"
      ]
     },
     "execution_count": 9,
     "metadata": {},
     "output_type": "execute_result"
    }
   ],
   "source": [
    "spam[:2]"
   ]
  },
  {
   "cell_type": "markdown",
   "id": "cf3bc357",
   "metadata": {},
   "source": [
    "Let's pretend bacon has the list [3.14, 'cat,' 11, 'cat,' True] for the next three questions."
   ]
  },
  {
   "cell_type": "code",
   "execution_count": 12,
   "id": "6c8507c7",
   "metadata": {},
   "outputs": [],
   "source": [
    "bacon=[3.14, 'cat', 11, 'cat', True]"
   ]
  },
  {
   "cell_type": "markdown",
   "id": "ec3853bf",
   "metadata": {},
   "source": [
    "6. What is the value of bacon.index('cat')?"
   ]
  },
  {
   "cell_type": "code",
   "execution_count": 13,
   "id": "b6605392",
   "metadata": {},
   "outputs": [
    {
     "data": {
      "text/plain": [
       "1"
      ]
     },
     "execution_count": 13,
     "metadata": {},
     "output_type": "execute_result"
    }
   ],
   "source": [
    "bacon.index('cat')"
   ]
  },
  {
   "cell_type": "markdown",
   "id": "7df0cc68",
   "metadata": {},
   "source": [
    "7. How does bacon.append(99) change the look of the list value in bacon?"
   ]
  },
  {
   "cell_type": "code",
   "execution_count": 14,
   "id": "11b40f25",
   "metadata": {},
   "outputs": [],
   "source": [
    "bacon.append(99)"
   ]
  },
  {
   "cell_type": "code",
   "execution_count": 15,
   "id": "5d45c617",
   "metadata": {},
   "outputs": [
    {
     "data": {
      "text/plain": [
       "[3.14, 'cat', 11, 'cat', True, 99]"
      ]
     },
     "execution_count": 15,
     "metadata": {},
     "output_type": "execute_result"
    }
   ],
   "source": [
    "bacon # 99 value has been added in the list at last place."
   ]
  },
  {
   "cell_type": "markdown",
   "id": "3f8b8e32",
   "metadata": {},
   "source": [
    "8. How does bacon.remove('cat') change the look of the list in bacon?"
   ]
  },
  {
   "cell_type": "code",
   "execution_count": 17,
   "id": "8e8799b7",
   "metadata": {},
   "outputs": [],
   "source": [
    "bacon.remove('cat')"
   ]
  },
  {
   "cell_type": "code",
   "execution_count": 18,
   "id": "44a3867f",
   "metadata": {},
   "outputs": [
    {
     "data": {
      "text/plain": [
       "[3.14, 11, True, 99]"
      ]
     },
     "execution_count": 18,
     "metadata": {},
     "output_type": "execute_result"
    }
   ],
   "source": [
    "bacon"
   ]
  },
  {
   "cell_type": "markdown",
   "id": "6cd152ff",
   "metadata": {},
   "source": [
    "9. What are the list concatenation and list replication operators?\n",
    "Ans-9) List concatenation is + operator and list replication is * operater"
   ]
  },
  {
   "cell_type": "code",
   "execution_count": 21,
   "id": "06a6af72",
   "metadata": {},
   "outputs": [
    {
     "name": "stdout",
     "output_type": "stream",
     "text": [
      "[2, 3, 4, 5, 6, 7, 8, 9]\n"
     ]
    }
   ],
   "source": [
    "# example\n",
    "list1=[2,3,4,5]\n",
    "list2=[6,7,8,9]\n",
    "print(list1+list2)"
   ]
  },
  {
   "cell_type": "markdown",
   "id": "6f727fba",
   "metadata": {},
   "source": [
    "10. What is difference between the list methods append() and insert()?\n",
    "Ans-10) Append method is used to append a value at end of the list while with the help of insert you can insert a value at specified position in the list."
   ]
  },
  {
   "cell_type": "markdown",
   "id": "168120ff",
   "metadata": {},
   "source": [
    "11. What are the two methods for removing items from a list?\n",
    "Ans-11) With the help of remove and pop method we can removing items from a list."
   ]
  },
  {
   "cell_type": "markdown",
   "id": "86bb2c12",
   "metadata": {},
   "source": [
    "12. Describe how list values and string values are identical.\n",
    "Ans-12)List is of collection of element and list are similar to strings.It contain any type ,the items can be of diffrent types."
   ]
  },
  {
   "cell_type": "markdown",
   "id": "0e24748b",
   "metadata": {},
   "source": [
    "13. What's the difference between tuples and lists?\n",
    "Ans-13) List are mutable  and tuple are immutable\n",
    "list are dynamic where tuple are static\n",
    "list are denoted by square brackets and tuple are denoted by parenthesis"
   ]
  },
  {
   "cell_type": "markdown",
   "id": "98da49f5",
   "metadata": {},
   "source": [
    "14. How do you type a tuple value that only contains the integer 42?"
   ]
  },
  {
   "cell_type": "code",
   "execution_count": 22,
   "id": "cd8970f2",
   "metadata": {},
   "outputs": [],
   "source": [
    "t=(42,)"
   ]
  },
  {
   "cell_type": "code",
   "execution_count": 23,
   "id": "7df885b9",
   "metadata": {},
   "outputs": [
    {
     "data": {
      "text/plain": [
       "tuple"
      ]
     },
     "execution_count": 23,
     "metadata": {},
     "output_type": "execute_result"
    }
   ],
   "source": [
    "type(t)"
   ]
  },
  {
   "cell_type": "markdown",
   "id": "bec91ebd",
   "metadata": {},
   "source": [
    "15. How do you get a list value's tuple form? How do you get a tuple value's list form?"
   ]
  },
  {
   "cell_type": "markdown",
   "id": "c97e1314",
   "metadata": {},
   "source": [
    "<!-- Ans-15 -->\n",
    "If you want to pass a list in tuple form then you have to pass the list in parenthesis\n",
    "Same apply to list form you have to pass the tuple in square bracket."
   ]
  },
  {
   "cell_type": "code",
   "execution_count": 25,
   "id": "383f99ea",
   "metadata": {},
   "outputs": [
    {
     "name": "stdout",
     "output_type": "stream",
     "text": [
      "<class 'tuple'>\n"
     ]
    }
   ],
   "source": [
    "# EXample\n",
    "t=([2,3,],[3,4,5,6])\n",
    "print(type(t))"
   ]
  },
  {
   "cell_type": "code",
   "execution_count": 26,
   "id": "a2b41828",
   "metadata": {},
   "outputs": [
    {
     "name": "stdout",
     "output_type": "stream",
     "text": [
      "<class 'list'>\n"
     ]
    }
   ],
   "source": [
    "l=[(2,3,4),(3,4,5)]\n",
    "print(type(l))"
   ]
  },
  {
   "cell_type": "markdown",
   "id": "29bd4fa1",
   "metadata": {},
   "source": [
    "16. Variables that \"contain\" list values are not necessarily lists themselves. Instead, what do they contain?\n",
    "Ans-16) They contain reference to the list values"
   ]
  },
  {
   "cell_type": "markdown",
   "id": "c8dfd58f",
   "metadata": {},
   "source": [
    "17. How do you distinguish between copy.copy() and copy.deepcopy()?\n",
    "Ans-17)copy() create reference to original object. copy.copy() return shallow copy If you change copied object - you change the original object.deepcopy() creates new object and does real copying of original object to new one. copy.deepcopy() return deep copy."
   ]
  }
 ],
 "metadata": {
  "kernelspec": {
   "display_name": "Python 3 (ipykernel)",
   "language": "python",
   "name": "python3"
  },
  "language_info": {
   "codemirror_mode": {
    "name": "ipython",
    "version": 3
   },
   "file_extension": ".py",
   "mimetype": "text/x-python",
   "name": "python",
   "nbconvert_exporter": "python",
   "pygments_lexer": "ipython3",
   "version": "3.9.7"
  }
 },
 "nbformat": 4,
 "nbformat_minor": 5
}
